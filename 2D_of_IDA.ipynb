{
  "cells": [
    {
      "cell_type": "code",
      "execution_count": 1,
      "metadata": {
        "id": "BT9cbnS2k31G"
      },
      "outputs": [],
      "source": [
        "import plotly.express as px\n",
        "import matplotlib.pyplot as plt\n",
        "import numpy as np\n",
        "import seaborn as sns # I added this\n",
        "sns.axes_style('whitegrid');\n",
        "from sklearn.preprocessing import StandardScaler\n",
        "from sklearn.model_selection import train_test_split\n",
        "from sklearn.svm import SVC\n",
        "from sklearn.metrics import accuracy_score, classification_report, confusion_matrix, cohen_kappa_score\n",
        "import seaborn as sn\n",
        "import scipy.io as sio\n",
        "import os\n",
        "\n",
        "\n",
        "import pandas as pd\n",
        "import numpy as np\n",
        "import time\n",
        "import seaborn as sn\n"
      ]
    },
    {
      "cell_type": "markdown",
      "metadata": {
        "id": "CwOSmbpWmqIc"
      },
      "source": [
        "## Read the Data"
      ]
    },
    {
      "cell_type": "code",
      "execution_count": 2,
      "metadata": {
        "id": "K-7UFr7BVADs"
      },
      "outputs": [],
      "source": [
        "def second_step(X, orgin, numComponents):\n",
        "  # standardize the features\n",
        "\n",
        "  sc = StandardScaler()\n",
        "  #X_std = sc.fit_transform(X)\n",
        "  #orgin_std = sc.fit_transform(orgin)\n",
        "\n",
        "  # Calculate the covariance matrix first\n",
        "  \n",
        "  correlation_matrix = np.corrcoef(orgin.T)\n",
        "  #covariance_matrix1 = np.cov(orgin.T)\n",
        "  covariance_matrix = np.cov(X.T)   # The result is a Positive semidefinite matrix\n",
        "  print(correlation_matrix.shape, covariance_matrix.shape)\n",
        "  final_matrix = covariance_matrix - correlation_matrix\n",
        "  print(max(pd.DataFrame(final_matrix)))\n",
        "  # Eigendecomposition of the covariance\n",
        "  eigen_values, eigen_vectors = np.linalg.eig(final_matrix)\n",
        "  # Calculate the variance explained on each of those components\n",
        "  variance_explained = [(i/sum(eigen_values))*100 for i in eigen_values]\n",
        "  # Calculate the cumulative sum of variance explained\n",
        "  cumulative_variance_explained = np.cumsum(variance_explained)\n",
        "  #Taking two components and create a projection matrix\n",
        "  projection_matrix = (eigen_vectors.T[:][:numComponents]).T\n",
        "  \n",
        "  X_IDA1 = X.dot(projection_matrix)\n",
        "\n",
        "  return X_IDA1"
      ]
    },
    {
      "cell_type": "code",
      "execution_count": 3,
      "metadata": {
        "id": "sWNG5-EPqqNC"
      },
      "outputs": [],
      "source": [
        "import pandas as pd\n",
        "import numpy as np\n",
        "\n",
        "def extract_pixels(X, y):\n",
        "  #q = X.reshape(-1, X.shape[2])\n",
        "  df = pd.DataFrame(data = X)\n",
        "  df = pd.concat([df, pd.DataFrame(data = y.ravel())], axis=1)\n",
        "  df.columns= [f'band{i}' for i in range(1, 1+X.shape[1])]+['class']\n",
        "\n",
        "  return df"
      ]
    },
    {
      "cell_type": "code",
      "execution_count": 4,
      "metadata": {
        "id": "al_HW9g4qstk"
      },
      "outputs": [],
      "source": [
        "from skimage.morphology import reconstruction\n",
        "from sklearn.preprocessing import QuantileTransformer\n",
        "from sklearn.preprocessing import StandardScaler\n",
        "\n",
        "def IDA(X1, y1, band_no, numComponents):\n",
        "    \n",
        "  df = extract_pixels(X1, y1)\n",
        "  X = df.iloc[:, :-1]\n",
        "  y = df.iloc[:, -1]\n",
        "\n",
        "  X_mean = X\n",
        "  X_mean['mean'] = X_mean.mean(axis=1)\n",
        "  Avr = [X_mean['mean']]\n",
        "  rep_Avr = np.repeat(Avr, band_no)\n",
        "  rep_Avr =np.reshape(rep_Avr, (-1,band_no))\n",
        "  main_X = X.iloc[:, :-1]\n",
        "  seed = main_X - rep_Avr\n",
        "  dilated = reconstruction(seed.values, main_X.values)\n",
        "  hdome = main_X - dilated\n",
        "  X = second_step(hdome,X.iloc[:, :-1], numComponents)\n",
        "  scaler = QuantileTransformer(n_quantiles=15, random_state=0,output_distribution='normal') #\n",
        "  scaler = scaler.fit_transform(X)\n",
        " \n",
        "  \n",
        "  return scaler, y "
      ]
    },
    {
      "cell_type": "code",
      "execution_count": 53,
      "metadata": {
        "id": "o4iT92t-6cTd"
      },
      "outputs": [],
      "source": [
        "# Importing the libraries\n",
        "import numpy as np\n",
        "import matplotlib.pyplot as plt\n",
        "import pandas as pd\n",
        "\n",
        "# Importing the dataset\n",
        "dataset = pd.read_csv('aa.csv')\n",
        "Xx = dataset.iloc[:, 1:15].values\n",
        "yy = dataset.iloc[:, 15].values"
      ]
    },
    {
      "cell_type": "code",
      "execution_count": 54,
      "metadata": {
        "colab": {
          "base_uri": "https://localhost:8080/"
        },
        "id": "V_wSoA-orcF2",
        "outputId": "97396daa-50ae-45ee-93a7-68e5648c048f"
      },
      "outputs": [
        {
          "output_type": "stream",
          "name": "stdout",
          "text": [
            "(14, 14) (14, 14)\n",
            "13\n"
          ]
        },
        {
          "output_type": "execute_result",
          "data": {
            "text/plain": [
              "((158, 6), (158,))"
            ]
          },
          "metadata": {},
          "execution_count": 54
        }
      ],
      "source": [
        "import time\n",
        "numComponents = 6\n",
        "band_no = Xx.shape[1]\n",
        "K = numComponents  # The target number of bands\n",
        "training_start_time = time.time()\n",
        "X1, y1 = IDA(Xx,yy, band_no, numComponents)\n",
        "training_end_time = time.time()\n",
        "X1.shape, y1.shape"
      ]
    },
    {
      "cell_type": "code",
      "execution_count": 55,
      "metadata": {
        "colab": {
          "base_uri": "https://localhost:8080/"
        },
        "id": "I_i2IpZ-tzYQ",
        "outputId": "a22f858a-7313-44af-80b6-98dc6b51f97d"
      },
      "outputs": [
        {
          "output_type": "stream",
          "name": "stdout",
          "text": [
            "preprocessing time :  0.019751787185668945\n"
          ]
        }
      ],
      "source": [
        "print(\"preprocessing time : \", training_end_time - training_start_time )\n",
        "preprocessing_time = training_end_time - training_start_time "
      ]
    },
    {
      "cell_type": "code",
      "source": [
        "from matplotlib import pyplot\n",
        "pyplot.figure(figsize=(7,5))\n",
        "pyplot.hist(X1[:,:], bins=25)\n",
        "pyplot.suptitle(\"Main Dataset\")\n",
        "pyplot.show()\n"
      ],
      "metadata": {
        "colab": {
          "base_uri": "https://localhost:8080/",
          "height": 356
        },
        "id": "gaXTQr_jr6hc",
        "outputId": "c1a403c9-4ddc-4115-f382-00b54bd07207"
      },
      "execution_count": 64,
      "outputs": [
        {
          "output_type": "display_data",
          "data": {
            "text/plain": [
              "<Figure size 504x360 with 1 Axes>"
            ],
            "image/png": "[encoded data removed]"
          },
          "metadata": {
            "needs_background": "light"
          }
        }
      ]
    },
    {
      "cell_type": "code",
      "source": [
        "pyplot.figure(figsize=(7,5))\n",
        "c = pyplot.boxplot(X1[:,:])\n",
        "top_points = c[\"fliers\"][0].get_data()[1]\n",
        "pyplot.boxplot(X1[:,:])\n",
        "pyplot.suptitle(\"Main Dataset\")\n",
        "pyplot.show()\n",
        "top_points"
      ],
      "metadata": {
        "colab": {
          "base_uri": "https://localhost:8080/",
          "height": 373
        },
        "id": "zvf23GJysCBt",
        "outputId": "4f95aa11-6a9c-42fd-c56d-a54ba36aee36"
      },
      "execution_count": 65,
      "outputs": [
        {
          "output_type": "display_data",
          "data": {
            "text/plain": [
              "<Figure size 504x360 with 1 Axes>"
            ],
            "image/png": "[encoded data removed]"
          },
          "metadata": {
            "needs_background": "light"
          }
        },
        {
          "output_type": "execute_result",
          "data": {
            "text/plain": [
              "array([-5.19933758,  5.19933758])"
            ]
          },
          "metadata": {},
          "execution_count": 65
        }
      ]
    }
  ],
  "metadata": {
    "colab": {
      "collapsed_sections": [],
      "machine_shape": "hm",
      "provenance": []
    },
    "kernelspec": {
      "display_name": "Python 3 (ipykernel)",
      "language": "python",
      "name": "python3"
    },
    "language_info": {
      "codemirror_mode": {
        "name": "ipython",
        "version": 3
      },
      "file_extension": ".py",
      "mimetype": "text/x-python",
      "name": "python",
      "nbconvert_exporter": "python",
      "pygments_lexer": "ipython3",
      "version": "3.8.5"
    }
  },
  "nbformat": 4,
  "nbformat_minor": 0
}