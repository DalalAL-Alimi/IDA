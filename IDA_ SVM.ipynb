{
  "cells": [
    {
      "cell_type": "markdown",
      "metadata": {
        "id": "view-in-github",
        "colab_type": "text"
      },
      "source": [
        "<a href=\"https://colab.research.google.com/github/DalalAL-Alimi/IDA/blob/main/IDA_%E2%80%8ASVM.ipynb\" target=\"_parent\"><img src=\"https://colab.research.google.com/assets/colab-badge.svg\" alt=\"Open In Colab\"/></a>"
      ]
    },
    {
      "cell_type": "code",
      "execution_count": null,
      "metadata": {
        "colab": {
          "background_save": true
        },
        "id": "BT9cbnS2k31G"
      },
      "outputs": [],
      "source": [
        "import plotly.express as px\n",
        "import matplotlib.pyplot as plt\n",
        "import numpy as np\n",
        "import seaborn as sns # I added this\n",
        "sns.axes_style('whitegrid');\n",
        "from sklearn.preprocessing import StandardScaler\n",
        "from sklearn.model_selection import train_test_split\n",
        "from sklearn.svm import SVC\n",
        "from sklearn.metrics import accuracy_score, classification_report, confusion_matrix, cohen_kappa_score\n",
        "import seaborn as sn\n",
        "import scipy.io as sio\n",
        "import os\n",
        "\n",
        "\n",
        "import pandas as pd\n",
        "import numpy as np\n",
        "import time\n",
        "import seaborn as sn\n"
      ]
    },
    {
      "cell_type": "markdown",
      "metadata": {
        "id": "CwOSmbpWmqIc"
      },
      "source": [
        "## Read the Data"
      ]
    },
    {
      "cell_type": "code",
      "execution_count": null,
      "metadata": {
        "colab": {
          "background_save": true
        },
        "id": "qCLrxZ8q6YT5"
      },
      "outputs": [],
      "source": [
        "def loadData(name):\n",
        "    data_path = os.path.join(os.getcwd(),'../data')\n",
        "    if name == 'IP':\n",
        "        data = sio.loadmat(os.path.join(data_path, 'Indian_pines_corrected.mat'))['indian_pines_corrected']\n",
        "        labels = sio.loadmat(os.path.join(data_path, 'Indian_pines_gt.mat'))['indian_pines_gt']\n",
        "    elif name == 'SA':\n",
        "        data = sio.loadmat(os.path.join(data_path, 'Salinas_corrected.mat'))['salinas_corrected']\n",
        "        labels = sio.loadmat(os.path.join(data_path, 'Salinas_gt.mat'))['salinas_gt']\n",
        "    elif name == 'PU':\n",
        "        data = sio.loadmat(os.path.join(data_path, 'PaviaU.mat'))['paviaU']\n",
        "        labels = sio.loadmat(os.path.join(data_path, 'PaviaU_gt.mat'))['paviaU_gt']\n",
        "    elif name == 'KSC':\n",
        "        data = sio.loadmat(os.path.join(data_path, 'KSC.mat'))['KSC']\n",
        "        labels = sio.loadmat(os.path.join(data_path, 'KSC_gt.mat'))['KSC_gt'] \n",
        "    elif name == 'Di':\n",
        "        data = sio.loadmat(os.path.join(data_path, 'Dioni.mat'))['Dioni']\n",
        "        labels = sio.loadmat(os.path.join(data_path, 'Dioni_GT.mat'))['Dioni_gt']\n",
        "    elif name == 'Lk':\n",
        "        data = sio.loadmat(os.path.join(data_path, 'Loukia.mat'))['Loukia']\n",
        "        labels = sio.loadmat(os.path.join(data_path, 'Loukia_GT.mat'))['Loukia_gt']\n",
        "    return data, labels"
      ]
    },
    {
      "cell_type": "code",
      "execution_count": null,
      "metadata": {
        "colab": {
          "background_save": true
        },
        "id": "K-7UFr7BVADs"
      },
      "outputs": [],
      "source": [
        "def second_step(X, orgin, numComponents):\n",
        "  # standardize the features\n",
        "\n",
        "  sc = StandardScaler()\n",
        "  #X_std = sc.fit_transform(X)\n",
        "  #orgin_std = sc.fit_transform(orgin)\n",
        "\n",
        "  # Calculate the covariance matrix first\n",
        "  \n",
        "  correlation_matrix = np.corrcoef(orgin.T)\n",
        "  #covariance_matrix1 = np.cov(orgin.T)\n",
        "  covariance_matrix = np.cov(X.T)   # The result is a Positive semidefinite matrix\n",
        "  print(correlation_matrix.shape, covariance_matrix.shape)\n",
        "  final_matrix = covariance_matrix - correlation_matrix\n",
        "  print(max(pd.DataFrame(final_matrix)))\n",
        "  # Eigendecomposition of the covariance\n",
        "  eigen_values, eigen_vectors = np.linalg.eig(final_matrix)\n",
        "  # Calculate the variance explained on each of those components\n",
        "  variance_explained = [(i/sum(eigen_values))*100 for i in eigen_values]\n",
        "  # Calculate the cumulative sum of variance explained\n",
        "  cumulative_variance_explained = np.cumsum(variance_explained)\n",
        "  #Taking two components and create a projection matrix\n",
        "  projection_matrix = (eigen_vectors.T[:][:numComponents]).T\n",
        "  \n",
        "  X_IDA1 = X.dot(projection_matrix)\n",
        "\n",
        "  return X_IDA1"
      ]
    },
    {
      "cell_type": "code",
      "execution_count": null,
      "metadata": {
        "colab": {
          "background_save": true
        },
        "id": "sWNG5-EPqqNC"
      },
      "outputs": [],
      "source": [
        "def extract_pixels(X, y):\n",
        "  q = X.reshape(-1, X.shape[2])\n",
        "  df = pd.DataFrame(data = q)\n",
        "  df = pd.concat([df, pd.DataFrame(data = y.ravel())], axis=1)\n",
        "  df.columns= [f'band{i}' for i in range(1, 1+X.shape[2])]+['class']\n",
        "\n",
        "  return df"
      ]
    },
    {
      "cell_type": "code",
      "execution_count": null,
      "metadata": {
        "colab": {
          "background_save": true
        },
        "id": "al_HW9g4qstk"
      },
      "outputs": [],
      "source": [
        "from skimage.morphology import reconstruction\n",
        "from sklearn.preprocessing import QuantileTransformer\n",
        "from sklearn.preprocessing import StandardScaler\n",
        "\n",
        "def IDA(X1, y1, band_no, numComponents):\n",
        "    \n",
        "  df = extract_pixels(X1, y1)\n",
        "  X = df.iloc[:, :-1]\n",
        "  y = df.iloc[:, -1]\n",
        "\n",
        "  X_mean = X\n",
        "  X_mean['mean'] = X_mean.mean(axis=1)\n",
        "  Avr = [X_mean['mean']]\n",
        "  rep_Avr = np.repeat(Avr, band_no)\n",
        "  rep_Avr =np.reshape(rep_Avr, (-1,band_no))\n",
        "  main_X = X.iloc[:, :-1]\n",
        "  seed = main_X - rep_Avr\n",
        "  dilated = reconstruction(seed.values, main_X.values)\n",
        "  hdome = main_X - dilated\n",
        "  X = second_step(hdome,X.iloc[:, :-1], numComponents)\n",
        "  scaler = QuantileTransformer(n_quantiles=15, random_state=0,output_distribution='normal') #\n",
        "  scaler = scaler.fit_transform(X)\n",
        " \n",
        "  \n",
        "  return scaler, y "
      ]
    },
    {
      "cell_type": "code",
      "execution_count": null,
      "metadata": {
        "colab": {
          "background_save": true
        },
        "id": "o4iT92t-6cTd",
        "outputId": "85704b14-4253-4bd5-f3a9-aede69f2fa5b"
      },
      "outputs": [
        {
          "data": {
            "text/plain": [
              "((145, 145, 200), (145, 145))"
            ]
          },
          "execution_count": 6,
          "metadata": {},
          "output_type": "execute_result"
        }
      ],
      "source": [
        "name = 'IP'\n",
        "X, y = loadData(name)\n",
        "h1 = X.shape[0]\n",
        "w1 = X.shape[1]\n",
        "X.shape, y.shape"
      ]
    },
    {
      "cell_type": "code",
      "execution_count": null,
      "metadata": {
        "colab": {
          "background_save": true
        },
        "id": "V_wSoA-orcF2",
        "outputId": "a671d7b1-2375-47b4-d907-0efb290c11ed"
      },
      "outputs": [
        {
          "name": "stdout",
          "output_type": "stream",
          "text": [
            "(200, 200) (200, 200)\n",
            "199\n"
          ]
        },
        {
          "data": {
            "text/plain": [
              "((21025, 15), (21025,))"
            ]
          },
          "execution_count": 7,
          "metadata": {},
          "output_type": "execute_result"
        }
      ],
      "source": [
        "import time\n",
        "numComponents = 15\n",
        "band_no = X.shape[2]\n",
        "K = numComponents  # The target number of bands\n",
        "training_start_time = time.time()\n",
        "X1, y1 = IDA(X,y, band_no, numComponents)\n",
        "training_end_time = time.time()\n",
        "X1.shape, y1.shape"
      ]
    },
    {
      "cell_type": "code",
      "execution_count": null,
      "metadata": {
        "colab": {
          "background_save": true
        },
        "id": "I_i2IpZ-tzYQ",
        "outputId": "b3a1d305-7644-40f3-8bd9-bfcbcbc71af9"
      },
      "outputs": [
        {
          "name": "stdout",
          "output_type": "stream",
          "text": [
            "preprocessing time :  3.002713680267334\n"
          ]
        }
      ],
      "source": [
        "print(\"preprocessing time : \", training_end_time - training_start_time )\n",
        "preprocessing_time = training_end_time - training_start_time "
      ]
    },
    {
      "cell_type": "code",
      "execution_count": null,
      "metadata": {
        "id": "iBHyhbGjeBPC"
      },
      "outputs": [],
      "source": [
        "q = pd.concat([pd.DataFrame(data = X1), pd.DataFrame(data = y1.ravel())], axis = 1)\n",
        "q.columns = [f'PC-{i}' for i in range(1,numComponents+1)]+['class']"
      ]
    },
    {
      "cell_type": "code",
      "execution_count": null,
      "metadata": {
        "colab": {
          "base_uri": "https://localhost:8080/",
          "height": 270
        },
        "id": "ZxqBrGAOeLuL",
        "outputId": "989ba395-aa37-4b37-b3ba-828e65ef598c"
      },
      "outputs": [
        {
          "data": {
            "text/html": [
              "<div>\n",
              "<style scoped>\n",
              "    .dataframe tbody tr th:only-of-type {\n",
              "        vertical-align: middle;\n",
              "    }\n",
              "\n",
              "    .dataframe tbody tr th {\n",
              "        vertical-align: top;\n",
              "    }\n",
              "\n",
              "    .dataframe thead th {\n",
              "        text-align: right;\n",
              "    }\n",
              "</style>\n",
              "<table border=\"1\" class=\"dataframe\">\n",
              "  <thead>\n",
              "    <tr style=\"text-align: right;\">\n",
              "      <th></th>\n",
              "      <th>PC-1</th>\n",
              "      <th>PC-2</th>\n",
              "      <th>PC-3</th>\n",
              "      <th>PC-4</th>\n",
              "      <th>PC-5</th>\n",
              "      <th>PC-6</th>\n",
              "      <th>PC-7</th>\n",
              "      <th>PC-8</th>\n",
              "      <th>PC-9</th>\n",
              "      <th>PC-10</th>\n",
              "      <th>PC-11</th>\n",
              "      <th>PC-12</th>\n",
              "      <th>PC-13</th>\n",
              "      <th>PC-14</th>\n",
              "      <th>PC-15</th>\n",
              "      <th>class</th>\n",
              "    </tr>\n",
              "  </thead>\n",
              "  <tbody>\n",
              "    <tr>\n",
              "      <th>0</th>\n",
              "      <td>0.025774</td>\n",
              "      <td>0.815405</td>\n",
              "      <td>1.000387</td>\n",
              "      <td>-1.474532</td>\n",
              "      <td>-0.055058</td>\n",
              "      <td>-0.656865</td>\n",
              "      <td>-1.577724</td>\n",
              "      <td>-0.069136</td>\n",
              "      <td>0.314522</td>\n",
              "      <td>-1.472449</td>\n",
              "      <td>-0.832973</td>\n",
              "      <td>0.787559</td>\n",
              "      <td>-0.645685</td>\n",
              "      <td>-0.758229</td>\n",
              "      <td>-0.063932</td>\n",
              "      <td>3</td>\n",
              "    </tr>\n",
              "    <tr>\n",
              "      <th>1</th>\n",
              "      <td>0.540073</td>\n",
              "      <td>1.507526</td>\n",
              "      <td>1.504245</td>\n",
              "      <td>-1.078301</td>\n",
              "      <td>-0.523161</td>\n",
              "      <td>-1.491999</td>\n",
              "      <td>-0.827563</td>\n",
              "      <td>-0.844380</td>\n",
              "      <td>-1.148205</td>\n",
              "      <td>-0.905174</td>\n",
              "      <td>-0.782528</td>\n",
              "      <td>0.224212</td>\n",
              "      <td>-1.840352</td>\n",
              "      <td>1.269320</td>\n",
              "      <td>-1.398133</td>\n",
              "      <td>3</td>\n",
              "    </tr>\n",
              "    <tr>\n",
              "      <th>2</th>\n",
              "      <td>0.670626</td>\n",
              "      <td>1.550588</td>\n",
              "      <td>1.525545</td>\n",
              "      <td>-0.845244</td>\n",
              "      <td>-1.296709</td>\n",
              "      <td>-1.490121</td>\n",
              "      <td>0.159907</td>\n",
              "      <td>-1.467267</td>\n",
              "      <td>-1.487307</td>\n",
              "      <td>0.000114</td>\n",
              "      <td>-0.901984</td>\n",
              "      <td>0.291273</td>\n",
              "      <td>-1.916838</td>\n",
              "      <td>0.932605</td>\n",
              "      <td>1.502799</td>\n",
              "      <td>3</td>\n",
              "    </tr>\n",
              "    <tr>\n",
              "      <th>3</th>\n",
              "      <td>0.591166</td>\n",
              "      <td>1.523220</td>\n",
              "      <td>1.508136</td>\n",
              "      <td>-1.057504</td>\n",
              "      <td>-0.515309</td>\n",
              "      <td>-1.498901</td>\n",
              "      <td>-0.744577</td>\n",
              "      <td>-0.574355</td>\n",
              "      <td>-1.169382</td>\n",
              "      <td>-0.822484</td>\n",
              "      <td>-0.805126</td>\n",
              "      <td>0.248120</td>\n",
              "      <td>-1.831857</td>\n",
              "      <td>1.465688</td>\n",
              "      <td>-1.384654</td>\n",
              "      <td>3</td>\n",
              "    </tr>\n",
              "    <tr>\n",
              "      <th>4</th>\n",
              "      <td>0.245429</td>\n",
              "      <td>1.149828</td>\n",
              "      <td>1.111285</td>\n",
              "      <td>-1.499972</td>\n",
              "      <td>0.143163</td>\n",
              "      <td>-1.466619</td>\n",
              "      <td>-1.603703</td>\n",
              "      <td>0.182224</td>\n",
              "      <td>-0.038219</td>\n",
              "      <td>-1.504269</td>\n",
              "      <td>-1.227445</td>\n",
              "      <td>0.760402</td>\n",
              "      <td>-1.190484</td>\n",
              "      <td>0.841546</td>\n",
              "      <td>-0.076608</td>\n",
              "      <td>3</td>\n",
              "    </tr>\n",
              "  </tbody>\n",
              "</table>\n",
              "</div>"
            ],
            "text/plain": [
              "       PC-1      PC-2      PC-3      PC-4      PC-5      PC-6      PC-7  \\\n",
              "0  0.025774  0.815405  1.000387 -1.474532 -0.055058 -0.656865 -1.577724   \n",
              "1  0.540073  1.507526  1.504245 -1.078301 -0.523161 -1.491999 -0.827563   \n",
              "2  0.670626  1.550588  1.525545 -0.845244 -1.296709 -1.490121  0.159907   \n",
              "3  0.591166  1.523220  1.508136 -1.057504 -0.515309 -1.498901 -0.744577   \n",
              "4  0.245429  1.149828  1.111285 -1.499972  0.143163 -1.466619 -1.603703   \n",
              "\n",
              "       PC-8      PC-9     PC-10     PC-11     PC-12     PC-13     PC-14  \\\n",
              "0 -0.069136  0.314522 -1.472449 -0.832973  0.787559 -0.645685 -0.758229   \n",
              "1 -0.844380 -1.148205 -0.905174 -0.782528  0.224212 -1.840352  1.269320   \n",
              "2 -1.467267 -1.487307  0.000114 -0.901984  0.291273 -1.916838  0.932605   \n",
              "3 -0.574355 -1.169382 -0.822484 -0.805126  0.248120 -1.831857  1.465688   \n",
              "4  0.182224 -0.038219 -1.504269 -1.227445  0.760402 -1.190484  0.841546   \n",
              "\n",
              "      PC-15  class  \n",
              "0 -0.063932      3  \n",
              "1 -1.398133      3  \n",
              "2  1.502799      3  \n",
              "3 -1.384654      3  \n",
              "4 -0.076608      3  "
            ]
          },
          "execution_count": 11,
          "metadata": {},
          "output_type": "execute_result"
        }
      ],
      "source": [
        "q.head()"
      ]
    },
    {
      "cell_type": "markdown",
      "metadata": {
        "id": "aekiTcj3qqRV"
      },
      "source": [
        "# split the dataset"
      ]
    },
    {
      "cell_type": "code",
      "execution_count": null,
      "metadata": {
        "id": "oa34aOy8oEO0"
      },
      "outputs": [],
      "source": [
        "x = q[q['class'] != 0]\n",
        "\n",
        "X = x.iloc[:, :-1].values\n",
        "\n",
        "y = x.loc[:, 'class'].values \n",
        "\n",
        "X_train, X_test, y_train, y_test = train_test_split(X, y, test_size=0.80, random_state=345, stratify=y)"
      ]
    },
    {
      "cell_type": "code",
      "execution_count": null,
      "metadata": {
        "colab": {
          "base_uri": "https://localhost:8080/"
        },
        "id": "aSPEMTv3qz1T",
        "outputId": "8113f49e-ee08-478e-e8a7-8f0332954c86"
      },
      "outputs": [
        {
          "data": {
            "text/plain": [
              "(2049, 15)"
            ]
          },
          "execution_count": 13,
          "metadata": {},
          "output_type": "execute_result"
        }
      ],
      "source": [
        "X_train.shape"
      ]
    },
    {
      "cell_type": "code",
      "execution_count": null,
      "metadata": {
        "colab": {
          "base_uri": "https://localhost:8080/"
        },
        "id": "pgTr6Insq4TL",
        "outputId": "a8d59b0e-d1a4-4938-893e-850ace29281e"
      },
      "outputs": [
        {
          "data": {
            "text/plain": [
              "(8200, 15)"
            ]
          },
          "execution_count": 14,
          "metadata": {},
          "output_type": "execute_result"
        }
      ],
      "source": [
        "X_test.shape"
      ]
    },
    {
      "cell_type": "code",
      "execution_count": null,
      "metadata": {
        "id": "CxrVrYrxq8xb",
        "outputId": "b286cf9a-906a-40cc-f316-450bfeb956dd"
      },
      "outputs": [
        {
          "name": "stdout",
          "output_type": "stream",
          "text": [
            "0.16093206405639648\n"
          ]
        }
      ],
      "source": [
        "svm =  SVC(C = 100, kernel = 'rbf', cache_size = 10*1024)\n",
        "import time\n",
        "start = time.time()\n",
        "svm.fit(X_train, y_train)\n",
        "end = time.time()\n",
        "\n",
        "Train_time = end - start\n",
        "print(Train_time)"
      ]
    },
    {
      "cell_type": "code",
      "execution_count": null,
      "metadata": {
        "id": "7hqwNTD88P3P",
        "outputId": "6d79dfab-13f6-47c2-8b58-5f46b109dd0d"
      },
      "outputs": [
        {
          "name": "stdout",
          "output_type": "stream",
          "text": [
            "0.766690731048584\n"
          ]
        }
      ],
      "source": [
        "test_start = time.time()\n",
        "y_pred = svm.predict(X_test)\n",
        "test_end = time.time()\n",
        "\n",
        "TEST_TIME = test_end - test_start\n",
        "print(TEST_TIME)"
      ]
    },
    {
      "cell_type": "code",
      "execution_count": null,
      "metadata": {
        "id": "GsKYuEksxfS5"
      },
      "outputs": [],
      "source": [
        "if name == 'IP':\n",
        "    names = ['Alfalfa', 'Corn-notill', 'Corn-mintill', 'Corn'\n",
        "                    ,'Grass-pasture', 'Grass-trees', 'Grass-pasture-mowed', \n",
        "                    'Hay-windrowed', 'Oats', 'Soybean-notill', 'Soybean-mintill',\n",
        "                    'Soybean-clean', 'Wheat', 'Woods', 'Buildings-Grass-Trees-Drives',\n",
        "                    'Stone-Steel-Towers']\n",
        "elif name == 'SA':\n",
        "    names = ['Brocoli_green_weeds_1','Brocoli_green_weeds_2','Fallow','Fallow_rough_plow','Fallow_smooth',\n",
        "                    'Stubble','Celery','Grapes_untrained','Soil_vinyard_develop','Corn_senesced_green_weeds',\n",
        "                    'Lettuce_romaine_4wk','Lettuce_romaine_5wk','Lettuce_romaine_6wk','Lettuce_romaine_7wk',\n",
        "                    'Vinyard_untrained','Vinyard_vertical_trellis']\n",
        "elif name == 'PU':\n",
        "    names = ['Asphalt','Meadows','Gravel','Trees', 'Painted metal sheets','Bare Soil','Bitumen',\n",
        "                    'Self-Blocking Bricks','Shadows']\n",
        "elif name == 'KSC':\n",
        "        names = [\"Scrub\", \"Willow swamp\",\n",
        "                        \"Cabbage palm hammock\", \"Cabbage palm/oak hammock\",\n",
        "                        \"Slash pine\", \"Oak/broadleaf hammock\",\n",
        "                        \"Hardwood swamp\", \"Graminoid marsh\", \"Spartina marsh\",\n",
        "                        \"Cattail marsh\", \"Salt marsh\", \"Mud flats\", \"Wate\"]\n",
        "    \n",
        "elif name == 'Di':\n",
        "    names = [\"Scrub\", \"Willow swamp\",\n",
        "                    \"Cabbage palm hammock\", \"Cabbage palm/oak hammock\",\n",
        "                    \"Slash pine\", \"Oak/broadleaf hammock\",\n",
        "                    \"Hardwood swamp\", \"Graminoid marsh\", \"Spartina marsh\",\n",
        "                    \"Cattail marsh\", \"Salt marsh\", \"Mud flats\"]\n",
        "elif name == 'Lk':\n",
        "    names = [\"Dense Urban Fabric\", \"Mineral Extraction Sites\",\n",
        "                    \"Non Irrigated Arable Land\", \"Fruit Trees\",\n",
        "                    \"Olive Groves\",\"Broad-Leaved Forest\", \"Coniferous Forest\",\"Mixed Forest\",\n",
        "                    \"Dense Sclerophyllous Vegetation\", \"Sparce Sclerophyllous Vegetation\", \"Sparcely Vegetated Areas\",\n",
        "                    \"Rocks and Sand\", \"Water\", \"Coastal Water\"]\n",
        "    "
      ]
    },
    {
      "cell_type": "code",
      "execution_count": null,
      "metadata": {
        "colab": {
          "base_uri": "https://localhost:8080/",
          "height": 592
        },
        "id": "gICiX-W7dxCU",
        "outputId": "bc9ecabf-0a47-491c-aeba-bb95e108ea87"
      },
      "outputs": [
        {
          "data": {
            "text/plain": [
              "<AxesSubplot: xlabel='Predicted', ylabel='Actual'>"
            ]
          },
          "execution_count": 18,
          "metadata": {},
          "output_type": "execute_result"
        }
      ],
      "source": [
        "data = confusion_matrix(y_test, y_pred)\n",
        "df_cm = pd.DataFrame(data, columns=np.unique(names), index = np.unique(names))\n",
        "df_cm.index.name = 'Actual'\n",
        "df_cm.columns.name = 'Predicted'\n",
        "plt.figure(figsize = (10,8))\n",
        "sn.set(font_scale=1.4)#for label size\n",
        "sn.heatmap(df_cm, cmap=\"Reds\", annot=True,annot_kws={\"size\": 16}, fmt='d')\n",
        "#plt.savefig('cmap.png', dpi=300)"
      ]
    },
    {
      "cell_type": "code",
      "execution_count": null,
      "metadata": {
        "colab": {
          "base_uri": "https://localhost:8080/"
        },
        "id": "_uAtWLM1d3wa",
        "outputId": "a28b251b-3fa6-472c-a25e-5a060ebac3c3"
      },
      "outputs": [
        {
          "name": "stdout",
          "output_type": "stream",
          "text": [
            "                              precision    recall  f1-score   support\n",
            "\n",
            "                     Alfalfa       0.82      0.76      0.79        37\n",
            "                 Corn-notill       0.68      0.76      0.72      1143\n",
            "                Corn-mintill       0.70      0.74      0.72       664\n",
            "                        Corn       0.57      0.44      0.50       190\n",
            "               Grass-pasture       0.85      0.89      0.87       386\n",
            "                 Grass-trees       0.95      0.93      0.94       584\n",
            "         Grass-pasture-mowed       0.48      0.55      0.51        22\n",
            "               Hay-windrowed       0.97      0.96      0.96       382\n",
            "                        Oats       0.47      0.50      0.48        16\n",
            "              Soybean-notill       0.68      0.66      0.67       778\n",
            "             Soybean-mintill       0.79      0.81      0.80      1964\n",
            "               Soybean-clean       0.77      0.65      0.71       475\n",
            "                       Wheat       0.96      0.99      0.98       164\n",
            "                       Woods       0.96      0.92      0.94      1012\n",
            "Buildings-Grass-Trees-Drives       0.80      0.75      0.77       309\n",
            "          Stone-Steel-Towers       0.96      0.74      0.84        74\n",
            "\n",
            "                    accuracy                           0.80      8200\n",
            "                   macro avg       0.78      0.75      0.76      8200\n",
            "                weighted avg       0.80      0.80      0.80      8200\n",
            "\n"
          ]
        }
      ],
      "source": [
        "print(classification_report(y_test, y_pred, target_names = names))#60"
      ]
    },
    {
      "cell_type": "code",
      "execution_count": null,
      "metadata": {
        "id": "VwtmTudkb2Vt"
      },
      "outputs": [],
      "source": [
        "clsf_report = pd.DataFrame(classification_report(y_test, y_pred, target_names = names, output_dict=True)).transpose()\n",
        "clsf_report.to_csv('SVM_'+name+' Classification Report.csv', index= True)"
      ]
    },
    {
      "cell_type": "code",
      "execution_count": null,
      "metadata": {
        "id": "0LpxGjMxiSYp"
      },
      "outputs": [],
      "source": [
        "from operator import truediv\n",
        "def AA_andEachClassAccuracy2(confusion_matrix):\n",
        "    counter = confusion_matrix.shape[0]\n",
        "    list_diag = np.diag(confusion_matrix)\n",
        "    list_raw_sum = np.sum(confusion_matrix, axis=1)\n",
        "    each_acc = np.nan_to_num(truediv(list_diag, list_raw_sum))\n",
        "    average_acc = np.mean(each_acc)\n",
        "    return each_acc, average_acc"
      ]
    },
    {
      "cell_type": "code",
      "execution_count": null,
      "metadata": {
        "id": "jYL5b-PGhrsO"
      },
      "outputs": [],
      "source": [
        "import pandas as pd\n",
        "import numpy as np\n",
        "import time\n",
        "import seaborn as sn\n",
        "def reports2 (X_test,y_test,name):\n",
        "    start = time.time()\n",
        "    Y_pred = X_test#svm.predict(X_test)\n",
        "    #y_pred = np.argmax(Y_pred, axis=1)\n",
        "    end = time.time()\n",
        "\n",
        "    TESTING_TIME = end - start\n",
        "    print(TESTING_TIME)\n",
        "    if name == 'IP':\n",
        "        target_names = ['Alfalfa', 'Corn-notill', 'Corn-mintill', 'Corn'\n",
        "                        ,'Grass-pasture', 'Grass-trees', 'Grass-pasture-mowed', \n",
        "                        'Hay-windrowed', 'Oats', 'Soybean-notill', 'Soybean-mintill',\n",
        "                        'Soybean-clean', 'Wheat', 'Woods', 'Buildings-Grass-Trees-Drives',\n",
        "                        'Stone-Steel-Towers']\n",
        "    elif name == 'SA':\n",
        "        target_names = ['Brocoli_green_weeds_1','Brocoli_green_weeds_2','Fallow','Fallow_rough_plow','Fallow_smooth',\n",
        "                        'Stubble','Celery','Grapes_untrained','Soil_vinyard_develop','Corn_senesced_green_weeds',\n",
        "                        'Lettuce_romaine_4wk','Lettuce_romaine_5wk','Lettuce_romaine_6wk','Lettuce_romaine_7wk',\n",
        "                        'Vinyard_untrained','Vinyard_vertical_trellis']\n",
        "    elif name == 'PU':\n",
        "        target_names = ['Asphalt','Meadows','Gravel','Trees', 'Painted metal sheets','Bare Soil','Bitumen',\n",
        "                        'Self-Blocking Bricks','Shadows']\n",
        "    elif name == 'KSC':\n",
        "            target_names = [\"Scrub\", \"Willow swamp\",\n",
        "                            \"Cabbage palm hammock\", \"Cabbage palm/oak hammock\",\n",
        "                            \"Slash pine\", \"Oak/broadleaf hammock\",\n",
        "                            \"Hardwood swamp\", \"Graminoid marsh\", \"Spartina marsh\",\n",
        "                            \"Cattail marsh\", \"Salt marsh\", \"Mud flats\", \"Wate\"]\n",
        "    elif name == 'Di':\n",
        "        target_names = [\"Scrub\", \"Willow swamp\",\n",
        "                        \"Cabbage palm hammock\", \"Cabbage palm/oak hammock\",\n",
        "                        \"Slash pine\", \"Oak/broadleaf hammock\",\n",
        "                        \"Hardwood swamp\", \"Graminoid marsh\", \"Spartina marsh\",\n",
        "                        \"Cattail marsh\", \"Salt marsh\", \"Mud flats\"]\n",
        "    elif name == 'Lk':\n",
        "        target_names = [\"Dense Urban Fabric\", \"Mineral Extraction Sites\",\n",
        "                        \"Non Irrigated Arable Land\", \"Fruit Trees\",\n",
        "                        \"Olive Groves\",\"Broad-Leaved Forest\", \"Coniferous Forest\",\"Mixed Forest\",\n",
        "                        \"Dense Sclerophyllous Vegetation\", \"Sparce Sclerophyllous Vegetation\", \"Sparcely Vegetated Areas\",\n",
        "                        \"Rocks and Sand\", \"Water\", \"Coastal Water\"]\n",
        "    \n",
        "    classification = classification_report(y_test, y_pred, target_names=target_names)\n",
        "    oa = accuracy_score(y_test, y_pred)\n",
        "    confusion = confusion_matrix(y_test, y_pred)\n",
        "    ###################################\n",
        "    '''clsf_report = pd.DataFrame(classification_report(np.argmax(y_test, axis=1), y_pred, target_names=target_names, output_dict=True)).transpose()\n",
        "    clsf_report.to_csv('Model2 Classification Report.csv', index= True)'''\n",
        "    #########################\n",
        "    df_cm = pd.DataFrame(confusion, columns=np.unique(target_names), index = np.unique(target_names))\n",
        "    df_cm.index.name = 'Actual'\n",
        "    df_cm.columns.name = 'Predicted'\n",
        "    plt.figure(figsize = (10,8))\n",
        "    sn.set(font_scale=1.4)#for label size\n",
        "    sn.heatmap(df_cm, cmap=\"Reds\", annot=True,annot_kws={\"size\": 16}, fmt='d')\n",
        "    #plt.savefig('/results/confusion_matrix_model2.png', dpi=300)\n",
        "    ##############\n",
        "    each_acc, aa = AA_andEachClassAccuracy2(confusion)\n",
        "    kappa = cohen_kappa_score(y_test, y_pred)\n",
        "    '''score = svm.evaluate(X_test, y_test, batch_size=32)\n",
        "    Test_Loss =  score[0]*100\n",
        "    Test_accuracy = score[1]*100'''\n",
        "    \n",
        "    return TESTING_TIME, classification, confusion, oa*100, each_acc*100, aa*100, kappa*100"
      ]
    },
    {
      "cell_type": "code",
      "execution_count": null,
      "metadata": {
        "colab": {
          "base_uri": "https://localhost:8080/",
          "height": 592
        },
        "id": "XCR31jNNhu1N",
        "outputId": "f6d1d7fd-b2bd-4433-f2e3-60af81e174a2"
      },
      "outputs": [
        {
          "name": "stdout",
          "output_type": "stream",
          "text": [
            "2.384185791015625e-07\n"
          ]
        }
      ],
      "source": [
        "TESTING_TIME, classification, confusion, oa, each_acc, aa, kappa = reports2(y_pred,y_test,name)\n",
        "df_clas = classification\n",
        "classification = str(classification)\n",
        "confusion = str(confusion)\n",
        "element_mean = np.mean(each_acc, axis=0)\n",
        "element_std = np.std(each_acc, axis=0)\n",
        "file_name = \"/results/IDA_SVM_classification_\"+name+\".txt\"\n",
        "\n",
        "with open(file_name, 'w') as x_file:\n",
        "    x_file.write('{} preprocessing time (s): '.format(preprocessing_time))\n",
        "    x_file.write('\\n')\n",
        "    x_file.write('{} Training Time 2 (s)'.format(Train_time))\n",
        "    x_file.write('\\n')\n",
        "    x_file.write('{} Test Time: (S)'.format(TEST_TIME))\n",
        "    x_file.write('\\n')\n",
        "    x_file.write('{} Kappa accuracy (%)'.format(kappa))\n",
        "    x_file.write('\\n')\n",
        "    x_file.write('{} Overall accuracy (%)'.format(oa))\n",
        "    x_file.write('\\n')\n",
        "    x_file.write('{} Average accuracy (%)'.format(aa))\n",
        "    x_file.write('\\n')\n",
        "    x_file.write('\\n')\n",
        "    x_file.write('{}+{} mean_KAPPA ± std_KAPPA is:'.format(str(np.mean(kappa)), str(np.std(kappa))))\n",
        "    x_file.write('\\n')\n",
        "    x_file.write('{}+{} mean_OA ± std_OA is: (%)'.format(str(np.mean(oa)), str(np.std(oa))))\n",
        "    x_file.write('\\n')\n",
        "    x_file.write('{}+{} mean_AA ± std_AA is:'.format(str(np.mean(aa)), str(np.std(aa))))\n",
        "    x_file.write('\\n')\n",
        "    x_file.write('{} AMean of all elements in confusion matrix: (%)'.format(str(element_mean)))\n",
        "    x_file.write('\\n')\n",
        "    x_file.write('{} Standard deviation of all elements in confusion matrix: (%)'.format(str(element_std)))\n",
        "    x_file.write('\\n')\n",
        "    x_file.write('==============================\\n')\n",
        "    x_file.write('{}classification Report:'.format(classification))\n",
        "    x_file.write('\\n')\n",
        "    x_file.write('===============================\\n')\n",
        "    x_file.write('{} confusion Matrix:'.format(confusion))"
      ]
    },
    {
      "cell_type": "code",
      "execution_count": null,
      "metadata": {
        "id": "6lvDILS_DzW6"
      },
      "outputs": [],
      "source": [
        "l=[]\n",
        "for i in range(q.shape[0]):\n",
        "  if q.iloc[i, -1] == 0:\n",
        "    l.append(0)\n",
        "  else:\n",
        "    l.append(svm.predict(q.iloc[i, :-1].values.reshape(1, -1)))"
      ]
    },
    {
      "cell_type": "code",
      "execution_count": null,
      "metadata": {
        "id": "IyHfPT7qkpiO"
      },
      "outputs": [],
      "source": [
        "import spectral\n",
        "gt = np.array(q.iloc[:, -1]).reshape(h1, w1).astype('float')\n",
        "ground_predict = spectral.imshow(classes = gt.astype(int), figsize =(7,7))"
      ]
    },
    {
      "cell_type": "code",
      "execution_count": null,
      "metadata": {
        "colab": {
          "base_uri": "https://localhost:8080/",
          "height": 634
        },
        "id": "Wiua7yzrA73S",
        "outputId": "2b167ab2-84a3-48c4-a641-dae4478a87fc"
      },
      "outputs": [
        {
          "name": "stderr",
          "output_type": "stream",
          "text": [
            "/tmp/ipykernel_38/4131742998.py:2: VisibleDeprecationWarning: Creating an ndarray from ragged nested sequences (which is a list-or-tuple of lists-or-tuples-or ndarrays with different lengths or shapes) is deprecated. If you meant to do this, you must specify 'dtype=object' when creating the ndarray.\n",
            "  clmap = np.array(l).reshape(h1, w1).astype('float')\n"
          ]
        }
      ],
      "source": [
        "import spectral\n",
        "clmap = np.array(l).reshape(h1, w1).astype('float')\n",
        "ground_predict = spectral.imshow(classes = clmap.astype(int), figsize =(7,7))"
      ]
    },
    {
      "cell_type": "code",
      "execution_count": null,
      "metadata": {
        "id": "JbQI5dKUch1p"
      },
      "outputs": [],
      "source": [
        "import spectral\n",
        "predict_image = spectral.imshow(classes = clmap.astype(int),figsize =(7,7))"
      ]
    },
    {
      "cell_type": "code",
      "execution_count": null,
      "metadata": {
        "id": "9k1b6TKUWnWI"
      },
      "outputs": [],
      "source": [
        "spectral.save_rgb(\"/results/IDA_SVM_\"+name+\".png\", clmap.astype(int), colors=spectral.spy_colors) "
      ]
    },
    {
      "cell_type": "code",
      "execution_count": null,
      "metadata": {
        "id": "diXdrhhGpbRO"
      },
      "outputs": [],
      "source": []
    }
  ],
  "metadata": {
    "colab": {
      "collapsed_sections": [],
      "machine_shape": "hm",
      "provenance": [],
      "include_colab_link": true
    },
    "kernelspec": {
      "display_name": "Python 3 (ipykernel)",
      "language": "python",
      "name": "python3"
    },
    "language_info": {
      "codemirror_mode": {
        "name": "ipython",
        "version": 3
      },
      "file_extension": ".py",
      "mimetype": "text/x-python",
      "name": "python",
      "nbconvert_exporter": "python",
      "pygments_lexer": "ipython3",
      "version": "3.8.5"
    }
  },
  "nbformat": 4,
  "nbformat_minor": 0
}